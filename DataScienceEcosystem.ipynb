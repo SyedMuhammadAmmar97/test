{
  "nbformat": 4,
  "nbformat_minor": 0,
  "metadata": {
    "colab": {
      "provenance": [],
      "authorship_tag": "ABX9TyMo2pdWAYB9qwsL/8tnlycE",
      "include_colab_link": true
    },
    "kernelspec": {
      "name": "python3",
      "display_name": "Python 3"
    },
    "language_info": {
      "name": "python"
    }
  },
  "cells": [
    {
      "cell_type": "markdown",
      "metadata": {
        "id": "view-in-github",
        "colab_type": "text"
      },
      "source": [
        "<a href=\"https://colab.research.google.com/github/SyedMuhammadAmmar97/test/blob/main/DataScienceEcosystem.ipynb\" target=\"_parent\"><img src=\"https://colab.research.google.com/assets/colab-badge.svg\" alt=\"Open In Colab\"/></a>"
      ]
    },
    {
      "cell_type": "markdown",
      "source": [
        "Data Science Tools and Ecosystem\n"
      ],
      "metadata": {
        "id": "5h0EvThjrRW2"
      }
    },
    {
      "cell_type": "markdown",
      "source": [
        "In this notebook, Data Science Tools and Ecosystem are summarized."
      ],
      "metadata": {
        "id": "bYqdw_kWsbXA"
      }
    },
    {
      "cell_type": "markdown",
      "source": [
        "**Objectives**\n",
        "- Programming languages\n",
        "- Tools used for Data Science\n",
        "- Cloud coding"
      ],
      "metadata": {
        "id": "_mxQnKtvyugZ"
      }
    },
    {
      "cell_type": "code",
      "source": [],
      "metadata": {
        "id": "hcbAptX0rTFX"
      },
      "execution_count": null,
      "outputs": []
    },
    {
      "cell_type": "markdown",
      "source": [
        "Some of the popular languages that Data Scientists use are:\n",
        "1)Python\n",
        "2)Watson Studio\n",
        "3)R"
      ],
      "metadata": {
        "id": "E_nf67xnsxcL"
      }
    },
    {
      "cell_type": "code",
      "source": [],
      "metadata": {
        "id": "AqGTOqoJs_gc"
      },
      "execution_count": null,
      "outputs": []
    },
    {
      "cell_type": "markdown",
      "source": [
        "Some of the commonly used libraries used by Data Scientists include:\n",
        "1)Tensorflow 2)Pandas 3)Matplotlib 4)Numpy"
      ],
      "metadata": {
        "id": "pmHx58ubtZKB"
      }
    },
    {
      "cell_type": "code",
      "source": [],
      "metadata": {
        "id": "GXw9PBa4t0Sg"
      },
      "execution_count": null,
      "outputs": []
    },
    {
      "cell_type": "markdown",
      "source": [
        "| Data Science Tools |\n",
        "| ------ |\n",
        "|Python |\n",
        "|R |\n",
        "|SQL |"
      ],
      "metadata": {
        "id": "3VAZffhduS-M"
      }
    },
    {
      "cell_type": "code",
      "source": [],
      "metadata": {
        "id": "2CdRBHDIuiRU"
      },
      "execution_count": null,
      "outputs": []
    },
    {
      "cell_type": "code",
      "source": [],
      "metadata": {
        "id": "ff5i8dutulJS"
      },
      "execution_count": null,
      "outputs": []
    },
    {
      "cell_type": "markdown",
      "source": [
        "###Below are a few examples of evaluating arithmetic expressions in Python"
      ],
      "metadata": {
        "id": "rUkiBJCEwmbn"
      }
    },
    {
      "cell_type": "markdown",
      "source": [
        " This a simple arithmetic expression to mutiply then add integers"
      ],
      "metadata": {
        "id": "XFSbw7OKxGOG"
      }
    },
    {
      "cell_type": "code",
      "source": [
        "(3*4)+5"
      ],
      "metadata": {
        "colab": {
          "base_uri": "https://localhost:8080/"
        },
        "id": "zbmmGt5FxKrK",
        "outputId": "3d4ff52e-408f-4b62-9963-f67c271774a2"
      },
      "execution_count": 2,
      "outputs": [
        {
          "output_type": "execute_result",
          "data": {
            "text/plain": [
              "17"
            ]
          },
          "metadata": {},
          "execution_count": 2
        }
      ]
    },
    {
      "cell_type": "code",
      "source": [],
      "metadata": {
        "id": "5lXdU8PDxPBj"
      },
      "execution_count": null,
      "outputs": []
    },
    {
      "cell_type": "markdown",
      "source": [
        "This will convert 200 minutes to hours by diving by 60"
      ],
      "metadata": {
        "id": "Mubn80PIxstO"
      }
    },
    {
      "cell_type": "code",
      "source": [
        "x= 200/60\n",
        "print(x, \"hours\")"
      ],
      "metadata": {
        "colab": {
          "base_uri": "https://localhost:8080/"
        },
        "id": "M5sWCD_dxz_B",
        "outputId": "5f3c69d6-d8a2-46ab-c25d-d7c984851ddb"
      },
      "execution_count": 3,
      "outputs": [
        {
          "output_type": "stream",
          "name": "stdout",
          "text": [
            "3.3333333333333335 hours\n"
          ]
        }
      ]
    },
    {
      "cell_type": "markdown",
      "source": [
        "##Author\n",
        "Syed Muhammad Ammar"
      ],
      "metadata": {
        "id": "bMdx0sz2zmMG"
      }
    },
    {
      "cell_type": "code",
      "source": [],
      "metadata": {
        "id": "pCfmLJ-lzpgp"
      },
      "execution_count": null,
      "outputs": []
    }
  ]
}